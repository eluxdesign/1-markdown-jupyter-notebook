{
 "cells": [
  {
   "cell_type": "markdown",
   "id": "a732c132-a87a-45a7-9628-8a88ab53fb5b",
   "metadata": {},
   "source": [
    "# Data Science Tools and Ecosystem"
   ]
  },
  {
   "cell_type": "markdown",
   "id": "7f017f27-2107-46db-8709-a3fe1d6f6be4",
   "metadata": {},
   "source": [
    "In diesem Notebook werden die Werkzeuge und Ökosysteme der Datenwissenschaft zusammengefasst."
   ]
  },
  {
   "cell_type": "markdown",
   "id": "ebaf0ab5-da97-426e-9a5e-77b7fca7d093",
   "metadata": {},
   "source": [
    "Einige der beliebten Sprachen, die Datenwissenschaftler verwenden, sind:\n",
    "1. Python\n",
    "2. R\n",
    "3. Julia"
   ]
  },
  {
   "cell_type": "markdown",
   "id": "9c31259e-01bd-4219-9ed0-3efd290a8581",
   "metadata": {},
   "source": [
    "Einige der häufig verwendeten Bibliotheken, die von Datenwissenschaftlern verwendet werden, sind:\n",
    "1. Pandas\n",
    "2. Plotly\n",
    "3. TensorFlow"
   ]
  },
  {
   "cell_type": "markdown",
   "id": "041f45e1-6993-4b58-bc2c-ac6954aea732",
   "metadata": {},
   "source": [
    "| Data Science Tools |\n",
    "| ------------------ |\n",
    "| RStudio |\n",
    "| Jupyter Notebook |\n",
    "| Spyder |"
   ]
  },
  {
   "cell_type": "markdown",
   "id": "5b77cc64-1381-4b59-8dad-7e1d24003309",
   "metadata": {},
   "source": [
    "### Unten sind einige Beispiele zur Auswertung arithmetischer Ausdrücke in Python."
   ]
  },
  {
   "cell_type": "code",
   "execution_count": 1,
   "id": "92428644-e708-43af-973d-fd98b5c48b6e",
   "metadata": {},
   "outputs": [
    {
     "data": {
      "text/plain": [
       "17"
      ]
     },
     "execution_count": 1,
     "metadata": {},
     "output_type": "execute_result"
    }
   ],
   "source": [
    "# Dies ist ein einfacher arithmetischer Ausdruck, um Ganzzahlen zu multiplizieren und dann zu addieren\n",
    "(3*4)+5"
   ]
  },
  {
   "cell_type": "code",
   "execution_count": 2,
   "id": "b3d74665-42ad-4d21-8cea-86feef17d856",
   "metadata": {},
   "outputs": [
    {
     "data": {
      "text/plain": [
       "3.3333333333333335"
      ]
     },
     "execution_count": 2,
     "metadata": {},
     "output_type": "execute_result"
    }
   ],
   "source": [
    "# Dies wandelt 200 Minuten in Stunden um, in dem durch 60 geteilt wird\n",
    "200 / 60"
   ]
  },
  {
   "cell_type": "markdown",
   "id": "f4b062f5-a1bd-4943-a42d-fa7b0b1dcede",
   "metadata": {},
   "source": [
    "**Ziele**\n",
    "* Beliebte Sprachen für Datenwissenschaft auflisten\n",
    "* Arithmetische Ausdrücke in Python printen\n",
    "* Text in Markdown schreiben"
   ]
  },
  {
   "cell_type": "markdown",
   "id": "cbe75b37-f819-4869-9dd2-b876bc4116da",
   "metadata": {},
   "source": [
    "## Autor\n",
    "Elisa Jäger"
   ]
  },
  {
   "cell_type": "code",
   "execution_count": null,
   "id": "a32f83fa-89cc-4e43-bbc9-5c716091c721",
   "metadata": {},
   "outputs": [],
   "source": []
  },
  {
   "cell_type": "code",
   "execution_count": null,
   "id": "622ab872-0031-4afa-b1d7-796f883d67e4",
   "metadata": {},
   "outputs": [],
   "source": []
  }
 ],
 "metadata": {
  "kernelspec": {
   "display_name": "Python 3 (ipykernel)",
   "language": "python",
   "name": "python3"
  },
  "language_info": {
   "codemirror_mode": {
    "name": "ipython",
    "version": 3
   },
   "file_extension": ".py",
   "mimetype": "text/x-python",
   "name": "python",
   "nbconvert_exporter": "python",
   "pygments_lexer": "ipython3",
   "version": "3.12.8"
  }
 },
 "nbformat": 4,
 "nbformat_minor": 5
}
